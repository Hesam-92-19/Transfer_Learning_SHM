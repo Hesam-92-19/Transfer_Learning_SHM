{
  "nbformat": 4,
  "nbformat_minor": 0,
  "metadata": {
    "colab": {
      "provenance": [],
      "machine_shape": "hm"
    },
    "kernelspec": {
      "name": "python3",
      "display_name": "Python 3"
    },
    "accelerator": "GPU",
    "widgets": {
      "application/vnd.jupyter.widget-state+json": {
        "d44537cefbf44f90a62cb3c6fed8524b": {
          "model_module": "@jupyter-widgets/controls",
          "model_name": "VBoxModel",
          "model_module_version": "1.5.0",
          "state": {
            "_dom_classes": [
              "widget-interact"
            ],
            "_model_module": "@jupyter-widgets/controls",
            "_model_module_version": "1.5.0",
            "_model_name": "VBoxModel",
            "_view_count": null,
            "_view_module": "@jupyter-widgets/controls",
            "_view_module_version": "1.5.0",
            "_view_name": "VBoxView",
            "box_style": "",
            "children": [
              "IPY_MODEL_ee8eb843d2a841e281bda31264a8e161",
              "IPY_MODEL_6f42912a533d4790bef04e614d9ccc3c"
            ],
            "layout": "IPY_MODEL_309b349cd55a4e85b483a6cbc78d49e4"
          }
        },
        "ee8eb843d2a841e281bda31264a8e161": {
          "model_module": "@jupyter-widgets/controls",
          "model_name": "DropdownModel",
          "model_module_version": "1.5.0",
          "state": {
            "_dom_classes": [],
            "_model_module": "@jupyter-widgets/controls",
            "_model_module_version": "1.5.0",
            "_model_name": "DropdownModel",
            "_options_labels": [
              "Yellow",
              "QUGS",
              "Z24"
            ],
            "_view_count": null,
            "_view_module": "@jupyter-widgets/controls",
            "_view_module_version": "1.5.0",
            "_view_name": "DropdownView",
            "description": "Source Class",
            "description_tooltip": null,
            "disabled": false,
            "index": 1,
            "layout": "IPY_MODEL_f96111798b24427ca0baa0a970885488",
            "style": "IPY_MODEL_5755accd6420425b83a8a9dd9329ad8b"
          }
        },
        "6f42912a533d4790bef04e614d9ccc3c": {
          "model_module": "@jupyter-widgets/output",
          "model_name": "OutputModel",
          "model_module_version": "1.0.0",
          "state": {
            "_dom_classes": [],
            "_model_module": "@jupyter-widgets/output",
            "_model_module_version": "1.0.0",
            "_model_name": "OutputModel",
            "_view_count": null,
            "_view_module": "@jupyter-widgets/output",
            "_view_module_version": "1.0.0",
            "_view_name": "OutputView",
            "layout": "IPY_MODEL_4511bde40a8948658107af953254a7bd",
            "msg_id": "",
            "outputs": []
          }
        },
        "309b349cd55a4e85b483a6cbc78d49e4": {
          "model_module": "@jupyter-widgets/base",
          "model_name": "LayoutModel",
          "model_module_version": "1.2.0",
          "state": {
            "_model_module": "@jupyter-widgets/base",
            "_model_module_version": "1.2.0",
            "_model_name": "LayoutModel",
            "_view_count": null,
            "_view_module": "@jupyter-widgets/base",
            "_view_module_version": "1.2.0",
            "_view_name": "LayoutView",
            "align_content": null,
            "align_items": null,
            "align_self": null,
            "border": null,
            "bottom": null,
            "display": null,
            "flex": null,
            "flex_flow": null,
            "grid_area": null,
            "grid_auto_columns": null,
            "grid_auto_flow": null,
            "grid_auto_rows": null,
            "grid_column": null,
            "grid_gap": null,
            "grid_row": null,
            "grid_template_areas": null,
            "grid_template_columns": null,
            "grid_template_rows": null,
            "height": null,
            "justify_content": null,
            "justify_items": null,
            "left": null,
            "margin": null,
            "max_height": null,
            "max_width": null,
            "min_height": null,
            "min_width": null,
            "object_fit": null,
            "object_position": null,
            "order": null,
            "overflow": null,
            "overflow_x": null,
            "overflow_y": null,
            "padding": null,
            "right": null,
            "top": null,
            "visibility": null,
            "width": null
          }
        },
        "f96111798b24427ca0baa0a970885488": {
          "model_module": "@jupyter-widgets/base",
          "model_name": "LayoutModel",
          "model_module_version": "1.2.0",
          "state": {
            "_model_module": "@jupyter-widgets/base",
            "_model_module_version": "1.2.0",
            "_model_name": "LayoutModel",
            "_view_count": null,
            "_view_module": "@jupyter-widgets/base",
            "_view_module_version": "1.2.0",
            "_view_name": "LayoutView",
            "align_content": null,
            "align_items": null,
            "align_self": null,
            "border": null,
            "bottom": null,
            "display": null,
            "flex": null,
            "flex_flow": null,
            "grid_area": null,
            "grid_auto_columns": null,
            "grid_auto_flow": null,
            "grid_auto_rows": null,
            "grid_column": null,
            "grid_gap": null,
            "grid_row": null,
            "grid_template_areas": null,
            "grid_template_columns": null,
            "grid_template_rows": null,
            "height": null,
            "justify_content": null,
            "justify_items": null,
            "left": null,
            "margin": null,
            "max_height": null,
            "max_width": null,
            "min_height": null,
            "min_width": null,
            "object_fit": null,
            "object_position": null,
            "order": null,
            "overflow": null,
            "overflow_x": null,
            "overflow_y": null,
            "padding": null,
            "right": null,
            "top": null,
            "visibility": null,
            "width": null
          }
        },
        "5755accd6420425b83a8a9dd9329ad8b": {
          "model_module": "@jupyter-widgets/controls",
          "model_name": "DescriptionStyleModel",
          "model_module_version": "1.5.0",
          "state": {
            "_model_module": "@jupyter-widgets/controls",
            "_model_module_version": "1.5.0",
            "_model_name": "DescriptionStyleModel",
            "_view_count": null,
            "_view_module": "@jupyter-widgets/base",
            "_view_module_version": "1.2.0",
            "_view_name": "StyleView",
            "description_width": "initial"
          }
        },
        "4511bde40a8948658107af953254a7bd": {
          "model_module": "@jupyter-widgets/base",
          "model_name": "LayoutModel",
          "model_module_version": "1.2.0",
          "state": {
            "_model_module": "@jupyter-widgets/base",
            "_model_module_version": "1.2.0",
            "_model_name": "LayoutModel",
            "_view_count": null,
            "_view_module": "@jupyter-widgets/base",
            "_view_module_version": "1.2.0",
            "_view_name": "LayoutView",
            "align_content": null,
            "align_items": null,
            "align_self": null,
            "border": null,
            "bottom": null,
            "display": null,
            "flex": null,
            "flex_flow": null,
            "grid_area": null,
            "grid_auto_columns": null,
            "grid_auto_flow": null,
            "grid_auto_rows": null,
            "grid_column": null,
            "grid_gap": null,
            "grid_row": null,
            "grid_template_areas": null,
            "grid_template_columns": null,
            "grid_template_rows": null,
            "height": null,
            "justify_content": null,
            "justify_items": null,
            "left": null,
            "margin": null,
            "max_height": null,
            "max_width": null,
            "min_height": null,
            "min_width": null,
            "object_fit": null,
            "object_position": null,
            "order": null,
            "overflow": null,
            "overflow_x": null,
            "overflow_y": null,
            "padding": null,
            "right": null,
            "top": null,
            "visibility": null,
            "width": null
          }
        },
        "41627ee43ed44faf848c3bec5be2de2d": {
          "model_module": "@jupyter-widgets/controls",
          "model_name": "VBoxModel",
          "model_module_version": "1.5.0",
          "state": {
            "_dom_classes": [
              "widget-interact"
            ],
            "_model_module": "@jupyter-widgets/controls",
            "_model_module_version": "1.5.0",
            "_model_name": "VBoxModel",
            "_view_count": null,
            "_view_module": "@jupyter-widgets/controls",
            "_view_module_version": "1.5.0",
            "_view_name": "VBoxView",
            "box_style": "",
            "children": [
              "IPY_MODEL_3834a18328314138905190a33e70523e",
              "IPY_MODEL_2268e35678d54697995c9207fa87abb6"
            ],
            "layout": "IPY_MODEL_618dd6602f6742ff87fe89827703f6a2"
          }
        },
        "3834a18328314138905190a33e70523e": {
          "model_module": "@jupyter-widgets/controls",
          "model_name": "DropdownModel",
          "model_module_version": "1.5.0",
          "state": {
            "_dom_classes": [],
            "_model_module": "@jupyter-widgets/controls",
            "_model_module_version": "1.5.0",
            "_model_name": "DropdownModel",
            "_options_labels": [
              "15",
              "10",
              "6"
            ],
            "_view_count": null,
            "_view_module": "@jupyter-widgets/controls",
            "_view_module_version": "1.5.0",
            "_view_name": "DropdownView",
            "description": "Source N",
            "description_tooltip": null,
            "disabled": false,
            "index": 0,
            "layout": "IPY_MODEL_ddabff93708a48eebb93588876c69170",
            "style": "IPY_MODEL_c67652f085554e48ad85cc4d2243f8bb"
          }
        },
        "2268e35678d54697995c9207fa87abb6": {
          "model_module": "@jupyter-widgets/output",
          "model_name": "OutputModel",
          "model_module_version": "1.0.0",
          "state": {
            "_dom_classes": [],
            "_model_module": "@jupyter-widgets/output",
            "_model_module_version": "1.0.0",
            "_model_name": "OutputModel",
            "_view_count": null,
            "_view_module": "@jupyter-widgets/output",
            "_view_module_version": "1.0.0",
            "_view_name": "OutputView",
            "layout": "IPY_MODEL_6b0b51fc617a402082bf55d3f74b74f3",
            "msg_id": "",
            "outputs": []
          }
        },
        "618dd6602f6742ff87fe89827703f6a2": {
          "model_module": "@jupyter-widgets/base",
          "model_name": "LayoutModel",
          "model_module_version": "1.2.0",
          "state": {
            "_model_module": "@jupyter-widgets/base",
            "_model_module_version": "1.2.0",
            "_model_name": "LayoutModel",
            "_view_count": null,
            "_view_module": "@jupyter-widgets/base",
            "_view_module_version": "1.2.0",
            "_view_name": "LayoutView",
            "align_content": null,
            "align_items": null,
            "align_self": null,
            "border": null,
            "bottom": null,
            "display": null,
            "flex": null,
            "flex_flow": null,
            "grid_area": null,
            "grid_auto_columns": null,
            "grid_auto_flow": null,
            "grid_auto_rows": null,
            "grid_column": null,
            "grid_gap": null,
            "grid_row": null,
            "grid_template_areas": null,
            "grid_template_columns": null,
            "grid_template_rows": null,
            "height": null,
            "justify_content": null,
            "justify_items": null,
            "left": null,
            "margin": null,
            "max_height": null,
            "max_width": null,
            "min_height": null,
            "min_width": null,
            "object_fit": null,
            "object_position": null,
            "order": null,
            "overflow": null,
            "overflow_x": null,
            "overflow_y": null,
            "padding": null,
            "right": null,
            "top": null,
            "visibility": null,
            "width": null
          }
        },
        "ddabff93708a48eebb93588876c69170": {
          "model_module": "@jupyter-widgets/base",
          "model_name": "LayoutModel",
          "model_module_version": "1.2.0",
          "state": {
            "_model_module": "@jupyter-widgets/base",
            "_model_module_version": "1.2.0",
            "_model_name": "LayoutModel",
            "_view_count": null,
            "_view_module": "@jupyter-widgets/base",
            "_view_module_version": "1.2.0",
            "_view_name": "LayoutView",
            "align_content": null,
            "align_items": null,
            "align_self": null,
            "border": null,
            "bottom": null,
            "display": null,
            "flex": null,
            "flex_flow": null,
            "grid_area": null,
            "grid_auto_columns": null,
            "grid_auto_flow": null,
            "grid_auto_rows": null,
            "grid_column": null,
            "grid_gap": null,
            "grid_row": null,
            "grid_template_areas": null,
            "grid_template_columns": null,
            "grid_template_rows": null,
            "height": null,
            "justify_content": null,
            "justify_items": null,
            "left": null,
            "margin": null,
            "max_height": null,
            "max_width": null,
            "min_height": null,
            "min_width": null,
            "object_fit": null,
            "object_position": null,
            "order": null,
            "overflow": null,
            "overflow_x": null,
            "overflow_y": null,
            "padding": null,
            "right": null,
            "top": null,
            "visibility": null,
            "width": null
          }
        },
        "c67652f085554e48ad85cc4d2243f8bb": {
          "model_module": "@jupyter-widgets/controls",
          "model_name": "DescriptionStyleModel",
          "model_module_version": "1.5.0",
          "state": {
            "_model_module": "@jupyter-widgets/controls",
            "_model_module_version": "1.5.0",
            "_model_name": "DescriptionStyleModel",
            "_view_count": null,
            "_view_module": "@jupyter-widgets/base",
            "_view_module_version": "1.2.0",
            "_view_name": "StyleView",
            "description_width": "initial"
          }
        },
        "6b0b51fc617a402082bf55d3f74b74f3": {
          "model_module": "@jupyter-widgets/base",
          "model_name": "LayoutModel",
          "model_module_version": "1.2.0",
          "state": {
            "_model_module": "@jupyter-widgets/base",
            "_model_module_version": "1.2.0",
            "_model_name": "LayoutModel",
            "_view_count": null,
            "_view_module": "@jupyter-widgets/base",
            "_view_module_version": "1.2.0",
            "_view_name": "LayoutView",
            "align_content": null,
            "align_items": null,
            "align_self": null,
            "border": null,
            "bottom": null,
            "display": null,
            "flex": null,
            "flex_flow": null,
            "grid_area": null,
            "grid_auto_columns": null,
            "grid_auto_flow": null,
            "grid_auto_rows": null,
            "grid_column": null,
            "grid_gap": null,
            "grid_row": null,
            "grid_template_areas": null,
            "grid_template_columns": null,
            "grid_template_rows": null,
            "height": null,
            "justify_content": null,
            "justify_items": null,
            "left": null,
            "margin": null,
            "max_height": null,
            "max_width": null,
            "min_height": null,
            "min_width": null,
            "object_fit": null,
            "object_position": null,
            "order": null,
            "overflow": null,
            "overflow_x": null,
            "overflow_y": null,
            "padding": null,
            "right": null,
            "top": null,
            "visibility": null,
            "width": null
          }
        },
        "2243baef301849fd83e9921715b61856": {
          "model_module": "@jupyter-widgets/controls",
          "model_name": "VBoxModel",
          "model_module_version": "1.5.0",
          "state": {
            "_dom_classes": [
              "widget-interact"
            ],
            "_model_module": "@jupyter-widgets/controls",
            "_model_module_version": "1.5.0",
            "_model_name": "VBoxModel",
            "_view_count": null,
            "_view_module": "@jupyter-widgets/controls",
            "_view_module_version": "1.5.0",
            "_view_name": "VBoxView",
            "box_style": "",
            "children": [
              "IPY_MODEL_3e59c2db96e243569348e0918c98476e",
              "IPY_MODEL_e8383d51b2aa43dbb6006c1b6d566ef5"
            ],
            "layout": "IPY_MODEL_f28e69e896634fb699d411bd03cfe0a2"
          }
        },
        "3e59c2db96e243569348e0918c98476e": {
          "model_module": "@jupyter-widgets/controls",
          "model_name": "DropdownModel",
          "model_module_version": "1.5.0",
          "state": {
            "_dom_classes": [],
            "_model_module": "@jupyter-widgets/controls",
            "_model_module_version": "1.5.0",
            "_model_name": "DropdownModel",
            "_options_labels": [
              "2000",
              "1000",
              "500"
            ],
            "_view_count": null,
            "_view_module": "@jupyter-widgets/controls",
            "_view_module_version": "1.5.0",
            "_view_name": "DropdownView",
            "description": "Source W",
            "description_tooltip": null,
            "disabled": false,
            "index": 1,
            "layout": "IPY_MODEL_6f414492b1c14e8180fe8328c51a9a61",
            "style": "IPY_MODEL_ed58f49c448d4ac38bed8f3d7299d272"
          }
        },
        "e8383d51b2aa43dbb6006c1b6d566ef5": {
          "model_module": "@jupyter-widgets/output",
          "model_name": "OutputModel",
          "model_module_version": "1.0.0",
          "state": {
            "_dom_classes": [],
            "_model_module": "@jupyter-widgets/output",
            "_model_module_version": "1.0.0",
            "_model_name": "OutputModel",
            "_view_count": null,
            "_view_module": "@jupyter-widgets/output",
            "_view_module_version": "1.0.0",
            "_view_name": "OutputView",
            "layout": "IPY_MODEL_193c8f44bfa444d9b7d108c862805d12",
            "msg_id": "",
            "outputs": []
          }
        },
        "f28e69e896634fb699d411bd03cfe0a2": {
          "model_module": "@jupyter-widgets/base",
          "model_name": "LayoutModel",
          "model_module_version": "1.2.0",
          "state": {
            "_model_module": "@jupyter-widgets/base",
            "_model_module_version": "1.2.0",
            "_model_name": "LayoutModel",
            "_view_count": null,
            "_view_module": "@jupyter-widgets/base",
            "_view_module_version": "1.2.0",
            "_view_name": "LayoutView",
            "align_content": null,
            "align_items": null,
            "align_self": null,
            "border": null,
            "bottom": null,
            "display": null,
            "flex": null,
            "flex_flow": null,
            "grid_area": null,
            "grid_auto_columns": null,
            "grid_auto_flow": null,
            "grid_auto_rows": null,
            "grid_column": null,
            "grid_gap": null,
            "grid_row": null,
            "grid_template_areas": null,
            "grid_template_columns": null,
            "grid_template_rows": null,
            "height": null,
            "justify_content": null,
            "justify_items": null,
            "left": null,
            "margin": null,
            "max_height": null,
            "max_width": null,
            "min_height": null,
            "min_width": null,
            "object_fit": null,
            "object_position": null,
            "order": null,
            "overflow": null,
            "overflow_x": null,
            "overflow_y": null,
            "padding": null,
            "right": null,
            "top": null,
            "visibility": null,
            "width": null
          }
        },
        "6f414492b1c14e8180fe8328c51a9a61": {
          "model_module": "@jupyter-widgets/base",
          "model_name": "LayoutModel",
          "model_module_version": "1.2.0",
          "state": {
            "_model_module": "@jupyter-widgets/base",
            "_model_module_version": "1.2.0",
            "_model_name": "LayoutModel",
            "_view_count": null,
            "_view_module": "@jupyter-widgets/base",
            "_view_module_version": "1.2.0",
            "_view_name": "LayoutView",
            "align_content": null,
            "align_items": null,
            "align_self": null,
            "border": null,
            "bottom": null,
            "display": null,
            "flex": null,
            "flex_flow": null,
            "grid_area": null,
            "grid_auto_columns": null,
            "grid_auto_flow": null,
            "grid_auto_rows": null,
            "grid_column": null,
            "grid_gap": null,
            "grid_row": null,
            "grid_template_areas": null,
            "grid_template_columns": null,
            "grid_template_rows": null,
            "height": null,
            "justify_content": null,
            "justify_items": null,
            "left": null,
            "margin": null,
            "max_height": null,
            "max_width": null,
            "min_height": null,
            "min_width": null,
            "object_fit": null,
            "object_position": null,
            "order": null,
            "overflow": null,
            "overflow_x": null,
            "overflow_y": null,
            "padding": null,
            "right": null,
            "top": null,
            "visibility": null,
            "width": null
          }
        },
        "ed58f49c448d4ac38bed8f3d7299d272": {
          "model_module": "@jupyter-widgets/controls",
          "model_name": "DescriptionStyleModel",
          "model_module_version": "1.5.0",
          "state": {
            "_model_module": "@jupyter-widgets/controls",
            "_model_module_version": "1.5.0",
            "_model_name": "DescriptionStyleModel",
            "_view_count": null,
            "_view_module": "@jupyter-widgets/base",
            "_view_module_version": "1.2.0",
            "_view_name": "StyleView",
            "description_width": "initial"
          }
        },
        "193c8f44bfa444d9b7d108c862805d12": {
          "model_module": "@jupyter-widgets/base",
          "model_name": "LayoutModel",
          "model_module_version": "1.2.0",
          "state": {
            "_model_module": "@jupyter-widgets/base",
            "_model_module_version": "1.2.0",
            "_model_name": "LayoutModel",
            "_view_count": null,
            "_view_module": "@jupyter-widgets/base",
            "_view_module_version": "1.2.0",
            "_view_name": "LayoutView",
            "align_content": null,
            "align_items": null,
            "align_self": null,
            "border": null,
            "bottom": null,
            "display": null,
            "flex": null,
            "flex_flow": null,
            "grid_area": null,
            "grid_auto_columns": null,
            "grid_auto_flow": null,
            "grid_auto_rows": null,
            "grid_column": null,
            "grid_gap": null,
            "grid_row": null,
            "grid_template_areas": null,
            "grid_template_columns": null,
            "grid_template_rows": null,
            "height": null,
            "justify_content": null,
            "justify_items": null,
            "left": null,
            "margin": null,
            "max_height": null,
            "max_width": null,
            "min_height": null,
            "min_width": null,
            "object_fit": null,
            "object_position": null,
            "order": null,
            "overflow": null,
            "overflow_x": null,
            "overflow_y": null,
            "padding": null,
            "right": null,
            "top": null,
            "visibility": null,
            "width": null
          }
        },
        "2e2f27daed2440f9885e16e8cbe8af65": {
          "model_module": "@jupyter-widgets/controls",
          "model_name": "VBoxModel",
          "model_module_version": "1.5.0",
          "state": {
            "_dom_classes": [
              "widget-interact"
            ],
            "_model_module": "@jupyter-widgets/controls",
            "_model_module_version": "1.5.0",
            "_model_name": "VBoxModel",
            "_view_count": null,
            "_view_module": "@jupyter-widgets/controls",
            "_view_module_version": "1.5.0",
            "_view_name": "VBoxView",
            "box_style": "",
            "children": [
              "IPY_MODEL_8814e908dada42f0b47fb00b8ac13d6d",
              "IPY_MODEL_41fd638eef58473ebe6f54632216581b"
            ],
            "layout": "IPY_MODEL_20275528ba2e4e76a2ae39ad03fd8b3e"
          }
        },
        "8814e908dada42f0b47fb00b8ac13d6d": {
          "model_module": "@jupyter-widgets/controls",
          "model_name": "DropdownModel",
          "model_module_version": "1.5.0",
          "state": {
            "_dom_classes": [],
            "_model_module": "@jupyter-widgets/controls",
            "_model_module_version": "1.5.0",
            "_model_name": "DropdownModel",
            "_options_labels": [
              "Yellow",
              "QUGS",
              "Z24"
            ],
            "_view_count": null,
            "_view_module": "@jupyter-widgets/controls",
            "_view_module_version": "1.5.0",
            "_view_name": "DropdownView",
            "description": "Target Class",
            "description_tooltip": null,
            "disabled": false,
            "index": 0,
            "layout": "IPY_MODEL_0005a186c3ad4c308a0eea27509cae57",
            "style": "IPY_MODEL_ee00181369254927bde4cf3b5d4f93b3"
          }
        },
        "41fd638eef58473ebe6f54632216581b": {
          "model_module": "@jupyter-widgets/output",
          "model_name": "OutputModel",
          "model_module_version": "1.0.0",
          "state": {
            "_dom_classes": [],
            "_model_module": "@jupyter-widgets/output",
            "_model_module_version": "1.0.0",
            "_model_name": "OutputModel",
            "_view_count": null,
            "_view_module": "@jupyter-widgets/output",
            "_view_module_version": "1.0.0",
            "_view_name": "OutputView",
            "layout": "IPY_MODEL_0e45b15346474825a91c3574e7e43b2c",
            "msg_id": "",
            "outputs": []
          }
        },
        "20275528ba2e4e76a2ae39ad03fd8b3e": {
          "model_module": "@jupyter-widgets/base",
          "model_name": "LayoutModel",
          "model_module_version": "1.2.0",
          "state": {
            "_model_module": "@jupyter-widgets/base",
            "_model_module_version": "1.2.0",
            "_model_name": "LayoutModel",
            "_view_count": null,
            "_view_module": "@jupyter-widgets/base",
            "_view_module_version": "1.2.0",
            "_view_name": "LayoutView",
            "align_content": null,
            "align_items": null,
            "align_self": null,
            "border": null,
            "bottom": null,
            "display": null,
            "flex": null,
            "flex_flow": null,
            "grid_area": null,
            "grid_auto_columns": null,
            "grid_auto_flow": null,
            "grid_auto_rows": null,
            "grid_column": null,
            "grid_gap": null,
            "grid_row": null,
            "grid_template_areas": null,
            "grid_template_columns": null,
            "grid_template_rows": null,
            "height": null,
            "justify_content": null,
            "justify_items": null,
            "left": null,
            "margin": null,
            "max_height": null,
            "max_width": null,
            "min_height": null,
            "min_width": null,
            "object_fit": null,
            "object_position": null,
            "order": null,
            "overflow": null,
            "overflow_x": null,
            "overflow_y": null,
            "padding": null,
            "right": null,
            "top": null,
            "visibility": null,
            "width": null
          }
        },
        "0005a186c3ad4c308a0eea27509cae57": {
          "model_module": "@jupyter-widgets/base",
          "model_name": "LayoutModel",
          "model_module_version": "1.2.0",
          "state": {
            "_model_module": "@jupyter-widgets/base",
            "_model_module_version": "1.2.0",
            "_model_name": "LayoutModel",
            "_view_count": null,
            "_view_module": "@jupyter-widgets/base",
            "_view_module_version": "1.2.0",
            "_view_name": "LayoutView",
            "align_content": null,
            "align_items": null,
            "align_self": null,
            "border": null,
            "bottom": null,
            "display": null,
            "flex": null,
            "flex_flow": null,
            "grid_area": null,
            "grid_auto_columns": null,
            "grid_auto_flow": null,
            "grid_auto_rows": null,
            "grid_column": null,
            "grid_gap": null,
            "grid_row": null,
            "grid_template_areas": null,
            "grid_template_columns": null,
            "grid_template_rows": null,
            "height": null,
            "justify_content": null,
            "justify_items": null,
            "left": null,
            "margin": null,
            "max_height": null,
            "max_width": null,
            "min_height": null,
            "min_width": null,
            "object_fit": null,
            "object_position": null,
            "order": null,
            "overflow": null,
            "overflow_x": null,
            "overflow_y": null,
            "padding": null,
            "right": null,
            "top": null,
            "visibility": null,
            "width": null
          }
        },
        "ee00181369254927bde4cf3b5d4f93b3": {
          "model_module": "@jupyter-widgets/controls",
          "model_name": "DescriptionStyleModel",
          "model_module_version": "1.5.0",
          "state": {
            "_model_module": "@jupyter-widgets/controls",
            "_model_module_version": "1.5.0",
            "_model_name": "DescriptionStyleModel",
            "_view_count": null,
            "_view_module": "@jupyter-widgets/base",
            "_view_module_version": "1.2.0",
            "_view_name": "StyleView",
            "description_width": "initial"
          }
        },
        "0e45b15346474825a91c3574e7e43b2c": {
          "model_module": "@jupyter-widgets/base",
          "model_name": "LayoutModel",
          "model_module_version": "1.2.0",
          "state": {
            "_model_module": "@jupyter-widgets/base",
            "_model_module_version": "1.2.0",
            "_model_name": "LayoutModel",
            "_view_count": null,
            "_view_module": "@jupyter-widgets/base",
            "_view_module_version": "1.2.0",
            "_view_name": "LayoutView",
            "align_content": null,
            "align_items": null,
            "align_self": null,
            "border": null,
            "bottom": null,
            "display": null,
            "flex": null,
            "flex_flow": null,
            "grid_area": null,
            "grid_auto_columns": null,
            "grid_auto_flow": null,
            "grid_auto_rows": null,
            "grid_column": null,
            "grid_gap": null,
            "grid_row": null,
            "grid_template_areas": null,
            "grid_template_columns": null,
            "grid_template_rows": null,
            "height": null,
            "justify_content": null,
            "justify_items": null,
            "left": null,
            "margin": null,
            "max_height": null,
            "max_width": null,
            "min_height": null,
            "min_width": null,
            "object_fit": null,
            "object_position": null,
            "order": null,
            "overflow": null,
            "overflow_x": null,
            "overflow_y": null,
            "padding": null,
            "right": null,
            "top": null,
            "visibility": null,
            "width": null
          }
        }
      }
    }
  },
  "cells": [
    {
      "cell_type": "markdown",
      "source": [
        "# Mount your drive (in case you want to save some results) + GitHub directory\n",
        "* Please use GPU"
      ],
      "metadata": {
        "id": "t2Onrr7bDNrN"
      }
    },
    {
      "cell_type": "code",
      "metadata": {
        "id": "v3Uui2rEvmrg",
        "colab": {
          "base_uri": "https://localhost:8080/"
        },
        "outputId": "0713482e-bfae-4d55-93c3-3d0fce7b486e"
      },
      "source": [
        "from google.colab import drive\n",
        "drive.mount('/content/drive')\n",
        "\n",
        "## Git\n",
        "!git clone https://github.com/Hesam-92-19/Transfer_Learning_SHM\n",
        "\n"
      ],
      "execution_count": null,
      "outputs": [
        {
          "output_type": "stream",
          "name": "stdout",
          "text": [
            "Mounted at /content/drive\n",
            "Cloning into 'Transfer_Learning_SHM'...\n",
            "remote: Enumerating objects: 47, done.\u001b[K\n",
            "remote: Counting objects: 100% (47/47), done.\u001b[K\n",
            "remote: Compressing objects: 100% (44/44), done.\u001b[K\n",
            "remote: Total 47 (delta 13), reused 0 (delta 0), pack-reused 0\u001b[K\n",
            "Unpacking objects: 100% (47/47), 1.74 MiB | 4.67 MiB/s, done.\n"
          ]
        }
      ]
    },
    {
      "cell_type": "markdown",
      "source": [
        "# Download + Unzip data files"
      ],
      "metadata": {
        "id": "DGdv6jBMrhzJ"
      }
    },
    {
      "cell_type": "code",
      "source": [
        "# Creating the ZIP file \n",
        "import shutil\n",
        "from zipfile import ZipFile\n",
        "import urllib\n",
        "AD1='https://drive.google.com/uc?export=download&id=1-422on4tCy7EbCvKLdMboy9y_X0d703E&confirm=t&uuid=b1f020cb-df7a-46fb-ad9f-0de7c901dc97&at=ALgDtsxV0uvcfl6acmBvQTEYcQGW:1678645176383'\n",
        "AD2='https://drive.google.com/uc?export=download&id=1XeU0hfYAvIR6woDqRp1EGt-4YdQmAIFW&confirm=t&uuid=b1f020cb-df7a-46fb-ad9f-0de7c901dc97&at=ALgDtsxV0uvcfl6acmBvQTEYcQGW:1678645176383'\n",
        "urllib.request.urlretrieve(AD1, 'A.zip')\n",
        "urllib.request.urlretrieve(AD2, 'B.zip')\n",
        "\n",
        "## Extracting the ZIP files\n",
        "with ZipFile('A.zip', 'r') as f:\n",
        "  f.extractall('Detectors')\n",
        "with ZipFile('B.zip', 'r') as f:\n",
        "  f.extractall('Dataset')\n",
        "\n",
        "import os\n",
        "os.remove('A.zip')\n",
        "os.remove('B.zip')"
      ],
      "metadata": {
        "id": "MmQHnEZnr93A"
      },
      "execution_count": null,
      "outputs": []
    },
    {
      "cell_type": "markdown",
      "source": [
        "#Utils Notebook which is called in this cell contains all the functions needed to carry out the TL."
      ],
      "metadata": {
        "id": "lBgGArInsaEP"
      }
    },
    {
      "cell_type": "code",
      "metadata": {
        "id": "u_BBWZ3wqsy6"
      },
      "source": [
        "import sys\n",
        "Folder_N='Test'\n",
        "path_M = \"/content/\"\n",
        "sys.path.append(path_M)\n",
        "%cd /content/Transfer_Learning_SHM\n",
        "%run Utils.ipynb\n",
        "%cd\n",
        "\n",
        "## Select your precision level (Float 10^-40 (max S=40), Double 10^-80 (max S=80))\n",
        "#Prec='Float'\n",
        "#Precision=40\n",
        "Prec='Double'\n",
        "Precision=80\n",
        "torch.set_default_tensor_type('torch.cuda.'+Prec+'Tensor')\n",
        "\n"
      ],
      "execution_count": null,
      "outputs": []
    },
    {
      "cell_type": "markdown",
      "source": [
        "# Source Detector\n",
        "* Note that Z24 has twice N and half W compared to QUGS and Yellow frame. But for index compatibility in writing codes here, for instance, if Z24 has $W=1000$ ans $N=30$, it is labeled as $W$=2000 and $N=15$. Recall that for the transfer all is needed is the same W*N"
      ],
      "metadata": {
        "id": "uj6aS_o4g00q"
      }
    },
    {
      "cell_type": "code",
      "source": [
        "SourceK()\n",
        "NK()\n",
        "WK()"
      ],
      "metadata": {
        "id": "LutKWB_pUsYQ",
        "colab": {
          "base_uri": "https://localhost:8080/",
          "height": 113,
          "referenced_widgets": [
            "d44537cefbf44f90a62cb3c6fed8524b",
            "ee8eb843d2a841e281bda31264a8e161",
            "6f42912a533d4790bef04e614d9ccc3c",
            "309b349cd55a4e85b483a6cbc78d49e4",
            "f96111798b24427ca0baa0a970885488",
            "5755accd6420425b83a8a9dd9329ad8b",
            "4511bde40a8948658107af953254a7bd",
            "41627ee43ed44faf848c3bec5be2de2d",
            "3834a18328314138905190a33e70523e",
            "2268e35678d54697995c9207fa87abb6",
            "618dd6602f6742ff87fe89827703f6a2",
            "ddabff93708a48eebb93588876c69170",
            "c67652f085554e48ad85cc4d2243f8bb",
            "6b0b51fc617a402082bf55d3f74b74f3",
            "2243baef301849fd83e9921715b61856",
            "3e59c2db96e243569348e0918c98476e",
            "e8383d51b2aa43dbb6006c1b6d566ef5",
            "f28e69e896634fb699d411bd03cfe0a2",
            "6f414492b1c14e8180fe8328c51a9a61",
            "ed58f49c448d4ac38bed8f3d7299d272",
            "193c8f44bfa444d9b7d108c862805d12"
          ]
        },
        "outputId": "3ffebeba-4adc-49c9-ed39-0d9bea9adeda"
      },
      "execution_count": null,
      "outputs": [
        {
          "output_type": "display_data",
          "data": {
            "text/plain": [
              "interactive(children=(Dropdown(description='Source Class', options=('Yellow', 'QUGS', 'Z24'), style=Descriptio…"
            ],
            "application/vnd.jupyter.widget-view+json": {
              "version_major": 2,
              "version_minor": 0,
              "model_id": "d44537cefbf44f90a62cb3c6fed8524b"
            }
          },
          "metadata": {}
        },
        {
          "output_type": "display_data",
          "data": {
            "text/plain": [
              "interactive(children=(Dropdown(description='Source N', options=('15', '10', '6'), style=DescriptionStyle(descr…"
            ],
            "application/vnd.jupyter.widget-view+json": {
              "version_major": 2,
              "version_minor": 0,
              "model_id": "41627ee43ed44faf848c3bec5be2de2d"
            }
          },
          "metadata": {}
        },
        {
          "output_type": "display_data",
          "data": {
            "text/plain": [
              "interactive(children=(Dropdown(description='Source W', options=('2000', '1000', '500'), style=DescriptionStyle…"
            ],
            "application/vnd.jupyter.widget-view+json": {
              "version_major": 2,
              "version_minor": 0,
              "model_id": "2243baef301849fd83e9921715b61856"
            }
          },
          "metadata": {}
        }
      ]
    },
    {
      "cell_type": "markdown",
      "source": [
        "# Source Detector\n",
        "* Load Source Detector and its Spectrum\n"
      ],
      "metadata": {
        "id": "EpCJ8Mu5WgOn"
      }
    },
    {
      "cell_type": "code",
      "source": [
        "exec('D = CustomNeuralNetworkS%s().to(device)'%(str(N)))\n",
        "checkpoint =torch.load(path_M+'Detectors/'+Source[0]+'D1S'+str(NS_D)+'_'+str(WS_D)+'.pth')\n",
        "D.load_state_dict(checkpoint['D'].state_dict())\n",
        "Spec=checkpoint['Spec']\n"
      ],
      "metadata": {
        "id": "hpWvJSDEWvSI"
      },
      "execution_count": null,
      "outputs": []
    },
    {
      "cell_type": "markdown",
      "source": [
        "# Select Taget\n",
        "* If you select the Traget as Source, then the Source Detector performance on it domain is later plotted"
      ],
      "metadata": {
        "id": "AzCIaCyRfFI2"
      }
    },
    {
      "cell_type": "code",
      "source": [
        "SourceKT()"
      ],
      "metadata": {
        "colab": {
          "base_uri": "https://localhost:8080/",
          "height": 49,
          "referenced_widgets": [
            "2e2f27daed2440f9885e16e8cbe8af65",
            "8814e908dada42f0b47fb00b8ac13d6d",
            "41fd638eef58473ebe6f54632216581b",
            "20275528ba2e4e76a2ae39ad03fd8b3e",
            "0005a186c3ad4c308a0eea27509cae57",
            "ee00181369254927bde4cf3b5d4f93b3",
            "0e45b15346474825a91c3574e7e43b2c"
          ]
        },
        "id": "A-qgNny6f76p",
        "outputId": "d3453ee1-01e8-41fe-f70e-5b61a0851441"
      },
      "execution_count": null,
      "outputs": [
        {
          "output_type": "display_data",
          "data": {
            "text/plain": [
              "interactive(children=(Dropdown(description='Target Class', options=('Yellow', 'QUGS', 'Z24'), style=Descriptio…"
            ],
            "application/vnd.jupyter.widget-view+json": {
              "version_major": 2,
              "version_minor": 0,
              "model_id": "2e2f27daed2440f9885e16e8cbe8af65"
            }
          },
          "metadata": {}
        }
      ]
    },
    {
      "cell_type": "markdown",
      "source": [
        "# Load Target Data\n",
        "By selecting the Traget the following data is imported:\n",
        "* DM=features\n",
        "* CLass_CLT= Class sizes (number of data points)\n",
        "* E1T, ZopT = Cummulative Class_CLT for plot purposes"
      ],
      "metadata": {
        "id": "xPUGtmQukZP8"
      }
    },
    {
      "cell_type": "code",
      "source": [
        "[DMT, Data_CLT, E1T, ZopT]=Load_Data(Target,NS_D,WS_D,path_M)\n",
        "[DMS, ZetS, E1S, ZopS]=Load_Data(Source,NS_D,WS_D,path_M)"
      ],
      "metadata": {
        "id": "V8T6OQYskd8E"
      },
      "execution_count": null,
      "outputs": []
    },
    {
      "cell_type": "markdown",
      "source": [
        "#Transfer Learning-Binary SDD"
      ],
      "metadata": {
        "id": "N_oPXM2fkl5l"
      }
    },
    {
      "cell_type": "code",
      "source": [
        "def Binary_SDD(DMT,WS_D,NS_D,E1T,Data_CLT,D,Spec,Precision,TL=True):\n",
        "  CL=len(E1T)-1\n",
        "  PP=np.zeros((CL,1))\n",
        "  RR=np.zeros((CL,1))\n",
        "  FF=np.zeros((CL,1))\n",
        "  E1=np.copy(E1T)\n",
        "  for Class in range(1,CL):\n",
        "    DM=DMT\n",
        "    W=WS_D\n",
        "    S=NS_D\n",
        "    Zet=np.copy(Data_CLT)\n",
        "    E1Q=np.copy(E1T)\n",
        "    Source_Spectrum=Spec\n",
        "    Precision=80\n",
        "    TL=\"True\"\n",
        "    Plot=False\n",
        "    if Target.find(\"Z24\")==-1:\n",
        "      Coef=0.1\n",
        "    else:\n",
        "      Coef=0.5\n",
        "    Coef2=0.4\n",
        "    D_initiation=np.array([E1,np.zeros((len(E1)))])\n",
        "    if TL==\"False\":\n",
        "      Zet=np.array([0,int(E1Q[1])-int(E1Q[1]*Coef),E1Q[Class+1]-E1Q[Class]])\n",
        "      Zet\n",
        "      print('TL results without FT\\n')\n",
        "      E1QS=np.cumsum(E1Q)\n",
        "      DOLO=np.concatenate((DM[int(E1Q[1]*Coef):int(E1Q[1]),:],DM[int(E1Q[Class]):int(E1Q[Class+1]),:]))   \n",
        "      Test=-torch.log10(D(torch.Tensor((DOLO).reshape(len(DOLO),1,S*int(W/2)))))\n",
        "      Test[Test>Precision]=Precision\n",
        "      Test=Test.detach().cpu().numpy()\n",
        "      #plt.plot(Test)\n",
        "      #plt.show()\n",
        "      [FA,TA,FF]=PR(Test,Zet,1,KK)\n",
        "      print('P= ',str(FA),'R= ',str(TA),'F1=',str(FF))\n",
        "\n",
        "    if TL==\"True\":\n",
        "      #print('TL results with FT\\n')\n",
        "      E1=np.cumsum(Zet)\n",
        "      DMU=np.copy(DM)\n",
        "      DMQ=np.copy(DM)\n",
        "      E1Q=np.copy(E1)\n",
        "      G=np.copy(Spec)\n",
        "      DMMCopy=np.copy(DM)\n",
        "\n",
        "      # FT, Algorith 1 --- Spectrum normalization using only the intact data%%%%%%%%%%%%%%%%%%%%%%%%%%%%%%%\n",
        "      for k in range(S):\n",
        "        GA=G[k*int(W/2):(k+1)*int(W/2)];\n",
        "        G1=np.mean(DMQ[0:int(E1Q[1]*Coef),k*int(W/2):(k+1)*int(W/2)]**2, axis=0)\n",
        "        G1=G1/np.max(G1)\n",
        "        L=np.argsort(GA)\n",
        "        L1=np.argsort(G1)\n",
        "        Kok=np.zeros((int(W/2),int(W/2)))\n",
        "        for j in range(int(W/2)):\n",
        "          Kok[j,:]=(np.abs(GA-G1[j]))\n",
        "        K=np.argmin(Kok, axis=1)\n",
        "\n",
        "      # Transfroming the rest of dataset suing mapping from the intact portion %%%%%%%%%%%%%%%%%%%%%%%%%%%%%\n",
        "        for i in range(int(W/2)):\n",
        "          DMMCopy[:,L[i]+k*int(W/2)]=np.copy(DMQ[:,L1[i]+k*int(W/2)])*np.sqrt(GA[int(L[i])]/G1[int(L1[i])])\n",
        "      G111=(DMMCopy[int(E1Q[1]*Coef):int(E1Q[1]*(Coef+Coef2)),:])\n",
        "      Test111=-torch.log10(D(torch.Tensor((G111).reshape(len(G111),1,S*int(W/2)))))\n",
        "      TestAll=-torch.log10(D(torch.Tensor((DMMCopy).reshape(len(DMMCopy),1,S*int(W/2)))))\n",
        "      mu, std = norm.fit(Test111.detach().cpu())\n",
        "      KK=max(0.31,mu+3*std)\n",
        "      print('DC'+str(Class)+' TL results with FT')\n",
        "      E1QS=np.cumsum(E1Q)\n",
        "      DOLO=np.concatenate((DMMCopy[int(E1Q[1]*(Coef+Coef2)):int(E1Q[1]),:],DMMCopy[int(E1Q[Class]):int(E1Q[Class+1]),:]))   \n",
        "      Test=-torch.log10(D(torch.Tensor((DOLO).reshape(len(DOLO),1,S*int(W/2)))))\n",
        "      Test[Test>Precision]=Precision\n",
        "      Test=Test.detach().cpu().numpy()\n",
        "      Zet=np.array([0,int(E1Q[1])-int(E1Q[1]*(Coef+Coef2)),E1Q[Class+1]-E1Q[Class]])\n",
        "      print('SDD results with Damage class:\\t',str(Class))\n",
        "      plt.plot(Test)\n",
        "      #plt.ylim([0,0.5])\n",
        "      Zet_C1=Zet[1]\n",
        "      plt.plot([0,Zet_C1+Zet[2]],[KK,KK],'r')\n",
        "      plt.show()\n",
        "      [PP[Class],RR[Class],FF[Class]]=PR2(Test,Zet,int(Zet_C1),KK)\n",
        "      print('Precision= ',str(PP[Class]),'Recall= ',str(RR[Class]),'F1=',str(FF[Class]),'\\n\\n\\n')\n",
        "\n",
        "  plt.plot(PP)\n",
        "  plt.plot(RR)\n",
        "  plt.plot(FF)\n",
        "  plt.xlim([1,CL])\n",
        "  plt.title('Accuracy Metrics')\n",
        "  plt.xlabel('Damage case',fontsize=24)\n",
        "  plt.ylabel('PRF',fontsize=24)\n",
        "  plt.legend(['Precision','Recall','F1'],fontsize=20)"
      ],
      "metadata": {
        "id": "786u5ENQqd_y"
      },
      "execution_count": null,
      "outputs": []
    },
    {
      "cell_type": "code",
      "source": [
        "Binary_SDD(DMT,WS_D,NS_D,E1T,Data_CLT,D,Spec,Precision,TL=True)"
      ],
      "metadata": {
        "id": "QIO6An3Numl8"
      },
      "execution_count": null,
      "outputs": []
    }
  ]
}
