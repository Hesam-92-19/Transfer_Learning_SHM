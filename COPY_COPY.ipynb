{
  "nbformat": 4,
  "nbformat_minor": 0,
  "metadata": {
    "colab": {
      "provenance": [],
      "machine_shape": "hm"
    },
    "kernelspec": {
      "name": "python3",
      "display_name": "Python 3"
    },
    "accelerator": "GPU",
    "widgets": {
      "application/vnd.jupyter.widget-state+json": {
        "2bd50f91ac574b2f8e9a82a765fecd59": {
          "model_module": "@jupyter-widgets/controls",
          "model_name": "VBoxModel",
          "model_module_version": "1.5.0",
          "state": {
            "_dom_classes": [
              "widget-interact"
            ],
            "_model_module": "@jupyter-widgets/controls",
            "_model_module_version": "1.5.0",
            "_model_name": "VBoxModel",
            "_view_count": null,
            "_view_module": "@jupyter-widgets/controls",
            "_view_module_version": "1.5.0",
            "_view_name": "VBoxView",
            "box_style": "",
            "children": [
              "IPY_MODEL_fbd452b473d44ee8a4c0618f797521f4",
              "IPY_MODEL_fc88154466574f3ca160d1dc410d4913"
            ],
            "layout": "IPY_MODEL_75258c2f38a0433fae56b9dec224c3e2"
          }
        },
        "fbd452b473d44ee8a4c0618f797521f4": {
          "model_module": "@jupyter-widgets/controls",
          "model_name": "DropdownModel",
          "model_module_version": "1.5.0",
          "state": {
            "_dom_classes": [],
            "_model_module": "@jupyter-widgets/controls",
            "_model_module_version": "1.5.0",
            "_model_name": "DropdownModel",
            "_options_labels": [
              "Yellow",
              "QUGS",
              "Z24"
            ],
            "_view_count": null,
            "_view_module": "@jupyter-widgets/controls",
            "_view_module_version": "1.5.0",
            "_view_name": "DropdownView",
            "description": "Source Class",
            "description_tooltip": null,
            "disabled": false,
            "index": 0,
            "layout": "IPY_MODEL_6a5986c8136f493e817985b4401c60dd",
            "style": "IPY_MODEL_c2418120c16a486ea1e9e1d4de29338b"
          }
        },
        "fc88154466574f3ca160d1dc410d4913": {
          "model_module": "@jupyter-widgets/output",
          "model_name": "OutputModel",
          "model_module_version": "1.0.0",
          "state": {
            "_dom_classes": [],
            "_model_module": "@jupyter-widgets/output",
            "_model_module_version": "1.0.0",
            "_model_name": "OutputModel",
            "_view_count": null,
            "_view_module": "@jupyter-widgets/output",
            "_view_module_version": "1.0.0",
            "_view_name": "OutputView",
            "layout": "IPY_MODEL_2796d79509484ef88fe66a00530636f9",
            "msg_id": "",
            "outputs": []
          }
        },
        "75258c2f38a0433fae56b9dec224c3e2": {
          "model_module": "@jupyter-widgets/base",
          "model_name": "LayoutModel",
          "model_module_version": "1.2.0",
          "state": {
            "_model_module": "@jupyter-widgets/base",
            "_model_module_version": "1.2.0",
            "_model_name": "LayoutModel",
            "_view_count": null,
            "_view_module": "@jupyter-widgets/base",
            "_view_module_version": "1.2.0",
            "_view_name": "LayoutView",
            "align_content": null,
            "align_items": null,
            "align_self": null,
            "border": null,
            "bottom": null,
            "display": null,
            "flex": null,
            "flex_flow": null,
            "grid_area": null,
            "grid_auto_columns": null,
            "grid_auto_flow": null,
            "grid_auto_rows": null,
            "grid_column": null,
            "grid_gap": null,
            "grid_row": null,
            "grid_template_areas": null,
            "grid_template_columns": null,
            "grid_template_rows": null,
            "height": null,
            "justify_content": null,
            "justify_items": null,
            "left": null,
            "margin": null,
            "max_height": null,
            "max_width": null,
            "min_height": null,
            "min_width": null,
            "object_fit": null,
            "object_position": null,
            "order": null,
            "overflow": null,
            "overflow_x": null,
            "overflow_y": null,
            "padding": null,
            "right": null,
            "top": null,
            "visibility": null,
            "width": null
          }
        },
        "6a5986c8136f493e817985b4401c60dd": {
          "model_module": "@jupyter-widgets/base",
          "model_name": "LayoutModel",
          "model_module_version": "1.2.0",
          "state": {
            "_model_module": "@jupyter-widgets/base",
            "_model_module_version": "1.2.0",
            "_model_name": "LayoutModel",
            "_view_count": null,
            "_view_module": "@jupyter-widgets/base",
            "_view_module_version": "1.2.0",
            "_view_name": "LayoutView",
            "align_content": null,
            "align_items": null,
            "align_self": null,
            "border": null,
            "bottom": null,
            "display": null,
            "flex": null,
            "flex_flow": null,
            "grid_area": null,
            "grid_auto_columns": null,
            "grid_auto_flow": null,
            "grid_auto_rows": null,
            "grid_column": null,
            "grid_gap": null,
            "grid_row": null,
            "grid_template_areas": null,
            "grid_template_columns": null,
            "grid_template_rows": null,
            "height": null,
            "justify_content": null,
            "justify_items": null,
            "left": null,
            "margin": null,
            "max_height": null,
            "max_width": null,
            "min_height": null,
            "min_width": null,
            "object_fit": null,
            "object_position": null,
            "order": null,
            "overflow": null,
            "overflow_x": null,
            "overflow_y": null,
            "padding": null,
            "right": null,
            "top": null,
            "visibility": null,
            "width": null
          }
        },
        "c2418120c16a486ea1e9e1d4de29338b": {
          "model_module": "@jupyter-widgets/controls",
          "model_name": "DescriptionStyleModel",
          "model_module_version": "1.5.0",
          "state": {
            "_model_module": "@jupyter-widgets/controls",
            "_model_module_version": "1.5.0",
            "_model_name": "DescriptionStyleModel",
            "_view_count": null,
            "_view_module": "@jupyter-widgets/base",
            "_view_module_version": "1.2.0",
            "_view_name": "StyleView",
            "description_width": "initial"
          }
        },
        "2796d79509484ef88fe66a00530636f9": {
          "model_module": "@jupyter-widgets/base",
          "model_name": "LayoutModel",
          "model_module_version": "1.2.0",
          "state": {
            "_model_module": "@jupyter-widgets/base",
            "_model_module_version": "1.2.0",
            "_model_name": "LayoutModel",
            "_view_count": null,
            "_view_module": "@jupyter-widgets/base",
            "_view_module_version": "1.2.0",
            "_view_name": "LayoutView",
            "align_content": null,
            "align_items": null,
            "align_self": null,
            "border": null,
            "bottom": null,
            "display": null,
            "flex": null,
            "flex_flow": null,
            "grid_area": null,
            "grid_auto_columns": null,
            "grid_auto_flow": null,
            "grid_auto_rows": null,
            "grid_column": null,
            "grid_gap": null,
            "grid_row": null,
            "grid_template_areas": null,
            "grid_template_columns": null,
            "grid_template_rows": null,
            "height": null,
            "justify_content": null,
            "justify_items": null,
            "left": null,
            "margin": null,
            "max_height": null,
            "max_width": null,
            "min_height": null,
            "min_width": null,
            "object_fit": null,
            "object_position": null,
            "order": null,
            "overflow": null,
            "overflow_x": null,
            "overflow_y": null,
            "padding": null,
            "right": null,
            "top": null,
            "visibility": null,
            "width": null
          }
        },
        "24cc9f092f394122a9fe82ab3f083097": {
          "model_module": "@jupyter-widgets/controls",
          "model_name": "VBoxModel",
          "model_module_version": "1.5.0",
          "state": {
            "_dom_classes": [
              "widget-interact"
            ],
            "_model_module": "@jupyter-widgets/controls",
            "_model_module_version": "1.5.0",
            "_model_name": "VBoxModel",
            "_view_count": null,
            "_view_module": "@jupyter-widgets/controls",
            "_view_module_version": "1.5.0",
            "_view_name": "VBoxView",
            "box_style": "",
            "children": [
              "IPY_MODEL_9d81cc2289f6458cb24265f1809ac9a4",
              "IPY_MODEL_80f9f56d787e4869b05acd1915dd9b79"
            ],
            "layout": "IPY_MODEL_7b093f2e1ea84b87905ec5a892846ddd"
          }
        },
        "9d81cc2289f6458cb24265f1809ac9a4": {
          "model_module": "@jupyter-widgets/controls",
          "model_name": "DropdownModel",
          "model_module_version": "1.5.0",
          "state": {
            "_dom_classes": [],
            "_model_module": "@jupyter-widgets/controls",
            "_model_module_version": "1.5.0",
            "_model_name": "DropdownModel",
            "_options_labels": [
              "15",
              "10",
              "6"
            ],
            "_view_count": null,
            "_view_module": "@jupyter-widgets/controls",
            "_view_module_version": "1.5.0",
            "_view_name": "DropdownView",
            "description": "Source N",
            "description_tooltip": null,
            "disabled": false,
            "index": 0,
            "layout": "IPY_MODEL_0be06d493e1d4d4a84fe87419c8080f7",
            "style": "IPY_MODEL_8cbde2a75a0c41be80c22458e9635d7f"
          }
        },
        "80f9f56d787e4869b05acd1915dd9b79": {
          "model_module": "@jupyter-widgets/output",
          "model_name": "OutputModel",
          "model_module_version": "1.0.0",
          "state": {
            "_dom_classes": [],
            "_model_module": "@jupyter-widgets/output",
            "_model_module_version": "1.0.0",
            "_model_name": "OutputModel",
            "_view_count": null,
            "_view_module": "@jupyter-widgets/output",
            "_view_module_version": "1.0.0",
            "_view_name": "OutputView",
            "layout": "IPY_MODEL_b72ece7c615e4845a410d7f4f4f0fbc2",
            "msg_id": "",
            "outputs": []
          }
        },
        "7b093f2e1ea84b87905ec5a892846ddd": {
          "model_module": "@jupyter-widgets/base",
          "model_name": "LayoutModel",
          "model_module_version": "1.2.0",
          "state": {
            "_model_module": "@jupyter-widgets/base",
            "_model_module_version": "1.2.0",
            "_model_name": "LayoutModel",
            "_view_count": null,
            "_view_module": "@jupyter-widgets/base",
            "_view_module_version": "1.2.0",
            "_view_name": "LayoutView",
            "align_content": null,
            "align_items": null,
            "align_self": null,
            "border": null,
            "bottom": null,
            "display": null,
            "flex": null,
            "flex_flow": null,
            "grid_area": null,
            "grid_auto_columns": null,
            "grid_auto_flow": null,
            "grid_auto_rows": null,
            "grid_column": null,
            "grid_gap": null,
            "grid_row": null,
            "grid_template_areas": null,
            "grid_template_columns": null,
            "grid_template_rows": null,
            "height": null,
            "justify_content": null,
            "justify_items": null,
            "left": null,
            "margin": null,
            "max_height": null,
            "max_width": null,
            "min_height": null,
            "min_width": null,
            "object_fit": null,
            "object_position": null,
            "order": null,
            "overflow": null,
            "overflow_x": null,
            "overflow_y": null,
            "padding": null,
            "right": null,
            "top": null,
            "visibility": null,
            "width": null
          }
        },
        "0be06d493e1d4d4a84fe87419c8080f7": {
          "model_module": "@jupyter-widgets/base",
          "model_name": "LayoutModel",
          "model_module_version": "1.2.0",
          "state": {
            "_model_module": "@jupyter-widgets/base",
            "_model_module_version": "1.2.0",
            "_model_name": "LayoutModel",
            "_view_count": null,
            "_view_module": "@jupyter-widgets/base",
            "_view_module_version": "1.2.0",
            "_view_name": "LayoutView",
            "align_content": null,
            "align_items": null,
            "align_self": null,
            "border": null,
            "bottom": null,
            "display": null,
            "flex": null,
            "flex_flow": null,
            "grid_area": null,
            "grid_auto_columns": null,
            "grid_auto_flow": null,
            "grid_auto_rows": null,
            "grid_column": null,
            "grid_gap": null,
            "grid_row": null,
            "grid_template_areas": null,
            "grid_template_columns": null,
            "grid_template_rows": null,
            "height": null,
            "justify_content": null,
            "justify_items": null,
            "left": null,
            "margin": null,
            "max_height": null,
            "max_width": null,
            "min_height": null,
            "min_width": null,
            "object_fit": null,
            "object_position": null,
            "order": null,
            "overflow": null,
            "overflow_x": null,
            "overflow_y": null,
            "padding": null,
            "right": null,
            "top": null,
            "visibility": null,
            "width": null
          }
        },
        "8cbde2a75a0c41be80c22458e9635d7f": {
          "model_module": "@jupyter-widgets/controls",
          "model_name": "DescriptionStyleModel",
          "model_module_version": "1.5.0",
          "state": {
            "_model_module": "@jupyter-widgets/controls",
            "_model_module_version": "1.5.0",
            "_model_name": "DescriptionStyleModel",
            "_view_count": null,
            "_view_module": "@jupyter-widgets/base",
            "_view_module_version": "1.2.0",
            "_view_name": "StyleView",
            "description_width": "initial"
          }
        },
        "b72ece7c615e4845a410d7f4f4f0fbc2": {
          "model_module": "@jupyter-widgets/base",
          "model_name": "LayoutModel",
          "model_module_version": "1.2.0",
          "state": {
            "_model_module": "@jupyter-widgets/base",
            "_model_module_version": "1.2.0",
            "_model_name": "LayoutModel",
            "_view_count": null,
            "_view_module": "@jupyter-widgets/base",
            "_view_module_version": "1.2.0",
            "_view_name": "LayoutView",
            "align_content": null,
            "align_items": null,
            "align_self": null,
            "border": null,
            "bottom": null,
            "display": null,
            "flex": null,
            "flex_flow": null,
            "grid_area": null,
            "grid_auto_columns": null,
            "grid_auto_flow": null,
            "grid_auto_rows": null,
            "grid_column": null,
            "grid_gap": null,
            "grid_row": null,
            "grid_template_areas": null,
            "grid_template_columns": null,
            "grid_template_rows": null,
            "height": null,
            "justify_content": null,
            "justify_items": null,
            "left": null,
            "margin": null,
            "max_height": null,
            "max_width": null,
            "min_height": null,
            "min_width": null,
            "object_fit": null,
            "object_position": null,
            "order": null,
            "overflow": null,
            "overflow_x": null,
            "overflow_y": null,
            "padding": null,
            "right": null,
            "top": null,
            "visibility": null,
            "width": null
          }
        },
        "cc8f0541e60a4a4c914ca65608dc6b5a": {
          "model_module": "@jupyter-widgets/controls",
          "model_name": "VBoxModel",
          "model_module_version": "1.5.0",
          "state": {
            "_dom_classes": [
              "widget-interact"
            ],
            "_model_module": "@jupyter-widgets/controls",
            "_model_module_version": "1.5.0",
            "_model_name": "VBoxModel",
            "_view_count": null,
            "_view_module": "@jupyter-widgets/controls",
            "_view_module_version": "1.5.0",
            "_view_name": "VBoxView",
            "box_style": "",
            "children": [
              "IPY_MODEL_a67284fa8c3f48d3a253cdf9ae2ddaca",
              "IPY_MODEL_f47056f959b146cf811149e030ab4b91"
            ],
            "layout": "IPY_MODEL_3e976ef7831a46b4aff30d156ff05e13"
          }
        },
        "a67284fa8c3f48d3a253cdf9ae2ddaca": {
          "model_module": "@jupyter-widgets/controls",
          "model_name": "DropdownModel",
          "model_module_version": "1.5.0",
          "state": {
            "_dom_classes": [],
            "_model_module": "@jupyter-widgets/controls",
            "_model_module_version": "1.5.0",
            "_model_name": "DropdownModel",
            "_options_labels": [
              "2000",
              "1000",
              "500"
            ],
            "_view_count": null,
            "_view_module": "@jupyter-widgets/controls",
            "_view_module_version": "1.5.0",
            "_view_name": "DropdownView",
            "description": "Source W",
            "description_tooltip": null,
            "disabled": false,
            "index": 0,
            "layout": "IPY_MODEL_477811cb3af146aa8adfaf07ee15be52",
            "style": "IPY_MODEL_5b91706281454fcdb07a8c365fffd178"
          }
        },
        "f47056f959b146cf811149e030ab4b91": {
          "model_module": "@jupyter-widgets/output",
          "model_name": "OutputModel",
          "model_module_version": "1.0.0",
          "state": {
            "_dom_classes": [],
            "_model_module": "@jupyter-widgets/output",
            "_model_module_version": "1.0.0",
            "_model_name": "OutputModel",
            "_view_count": null,
            "_view_module": "@jupyter-widgets/output",
            "_view_module_version": "1.0.0",
            "_view_name": "OutputView",
            "layout": "IPY_MODEL_cf6b865c39fe4f20994fa7d7cece6962",
            "msg_id": "",
            "outputs": []
          }
        },
        "3e976ef7831a46b4aff30d156ff05e13": {
          "model_module": "@jupyter-widgets/base",
          "model_name": "LayoutModel",
          "model_module_version": "1.2.0",
          "state": {
            "_model_module": "@jupyter-widgets/base",
            "_model_module_version": "1.2.0",
            "_model_name": "LayoutModel",
            "_view_count": null,
            "_view_module": "@jupyter-widgets/base",
            "_view_module_version": "1.2.0",
            "_view_name": "LayoutView",
            "align_content": null,
            "align_items": null,
            "align_self": null,
            "border": null,
            "bottom": null,
            "display": null,
            "flex": null,
            "flex_flow": null,
            "grid_area": null,
            "grid_auto_columns": null,
            "grid_auto_flow": null,
            "grid_auto_rows": null,
            "grid_column": null,
            "grid_gap": null,
            "grid_row": null,
            "grid_template_areas": null,
            "grid_template_columns": null,
            "grid_template_rows": null,
            "height": null,
            "justify_content": null,
            "justify_items": null,
            "left": null,
            "margin": null,
            "max_height": null,
            "max_width": null,
            "min_height": null,
            "min_width": null,
            "object_fit": null,
            "object_position": null,
            "order": null,
            "overflow": null,
            "overflow_x": null,
            "overflow_y": null,
            "padding": null,
            "right": null,
            "top": null,
            "visibility": null,
            "width": null
          }
        },
        "477811cb3af146aa8adfaf07ee15be52": {
          "model_module": "@jupyter-widgets/base",
          "model_name": "LayoutModel",
          "model_module_version": "1.2.0",
          "state": {
            "_model_module": "@jupyter-widgets/base",
            "_model_module_version": "1.2.0",
            "_model_name": "LayoutModel",
            "_view_count": null,
            "_view_module": "@jupyter-widgets/base",
            "_view_module_version": "1.2.0",
            "_view_name": "LayoutView",
            "align_content": null,
            "align_items": null,
            "align_self": null,
            "border": null,
            "bottom": null,
            "display": null,
            "flex": null,
            "flex_flow": null,
            "grid_area": null,
            "grid_auto_columns": null,
            "grid_auto_flow": null,
            "grid_auto_rows": null,
            "grid_column": null,
            "grid_gap": null,
            "grid_row": null,
            "grid_template_areas": null,
            "grid_template_columns": null,
            "grid_template_rows": null,
            "height": null,
            "justify_content": null,
            "justify_items": null,
            "left": null,
            "margin": null,
            "max_height": null,
            "max_width": null,
            "min_height": null,
            "min_width": null,
            "object_fit": null,
            "object_position": null,
            "order": null,
            "overflow": null,
            "overflow_x": null,
            "overflow_y": null,
            "padding": null,
            "right": null,
            "top": null,
            "visibility": null,
            "width": null
          }
        },
        "5b91706281454fcdb07a8c365fffd178": {
          "model_module": "@jupyter-widgets/controls",
          "model_name": "DescriptionStyleModel",
          "model_module_version": "1.5.0",
          "state": {
            "_model_module": "@jupyter-widgets/controls",
            "_model_module_version": "1.5.0",
            "_model_name": "DescriptionStyleModel",
            "_view_count": null,
            "_view_module": "@jupyter-widgets/base",
            "_view_module_version": "1.2.0",
            "_view_name": "StyleView",
            "description_width": "initial"
          }
        },
        "cf6b865c39fe4f20994fa7d7cece6962": {
          "model_module": "@jupyter-widgets/base",
          "model_name": "LayoutModel",
          "model_module_version": "1.2.0",
          "state": {
            "_model_module": "@jupyter-widgets/base",
            "_model_module_version": "1.2.0",
            "_model_name": "LayoutModel",
            "_view_count": null,
            "_view_module": "@jupyter-widgets/base",
            "_view_module_version": "1.2.0",
            "_view_name": "LayoutView",
            "align_content": null,
            "align_items": null,
            "align_self": null,
            "border": null,
            "bottom": null,
            "display": null,
            "flex": null,
            "flex_flow": null,
            "grid_area": null,
            "grid_auto_columns": null,
            "grid_auto_flow": null,
            "grid_auto_rows": null,
            "grid_column": null,
            "grid_gap": null,
            "grid_row": null,
            "grid_template_areas": null,
            "grid_template_columns": null,
            "grid_template_rows": null,
            "height": null,
            "justify_content": null,
            "justify_items": null,
            "left": null,
            "margin": null,
            "max_height": null,
            "max_width": null,
            "min_height": null,
            "min_width": null,
            "object_fit": null,
            "object_position": null,
            "order": null,
            "overflow": null,
            "overflow_x": null,
            "overflow_y": null,
            "padding": null,
            "right": null,
            "top": null,
            "visibility": null,
            "width": null
          }
        },
        "a260d5bce0b945b5a3b095a42db70c2a": {
          "model_module": "@jupyter-widgets/controls",
          "model_name": "VBoxModel",
          "model_module_version": "1.5.0",
          "state": {
            "_dom_classes": [
              "widget-interact"
            ],
            "_model_module": "@jupyter-widgets/controls",
            "_model_module_version": "1.5.0",
            "_model_name": "VBoxModel",
            "_view_count": null,
            "_view_module": "@jupyter-widgets/controls",
            "_view_module_version": "1.5.0",
            "_view_name": "VBoxView",
            "box_style": "",
            "children": [
              "IPY_MODEL_a9118871dbcc43f19c0e8286a020ba4e",
              "IPY_MODEL_fac002bf68584417837d3b30eedbfa27"
            ],
            "layout": "IPY_MODEL_860a37066d5f4406915264760e629ce3"
          }
        },
        "a9118871dbcc43f19c0e8286a020ba4e": {
          "model_module": "@jupyter-widgets/controls",
          "model_name": "DropdownModel",
          "model_module_version": "1.5.0",
          "state": {
            "_dom_classes": [],
            "_model_module": "@jupyter-widgets/controls",
            "_model_module_version": "1.5.0",
            "_model_name": "DropdownModel",
            "_options_labels": [
              "Yellow",
              "QUGS",
              "Z24"
            ],
            "_view_count": null,
            "_view_module": "@jupyter-widgets/controls",
            "_view_module_version": "1.5.0",
            "_view_name": "DropdownView",
            "description": "Target Class",
            "description_tooltip": null,
            "disabled": false,
            "index": 0,
            "layout": "IPY_MODEL_6129030b10c84ac884ce2d8fb6429802",
            "style": "IPY_MODEL_2a3be444149e467e9da394f08314b9c0"
          }
        },
        "fac002bf68584417837d3b30eedbfa27": {
          "model_module": "@jupyter-widgets/output",
          "model_name": "OutputModel",
          "model_module_version": "1.0.0",
          "state": {
            "_dom_classes": [],
            "_model_module": "@jupyter-widgets/output",
            "_model_module_version": "1.0.0",
            "_model_name": "OutputModel",
            "_view_count": null,
            "_view_module": "@jupyter-widgets/output",
            "_view_module_version": "1.0.0",
            "_view_name": "OutputView",
            "layout": "IPY_MODEL_253bab204fb84959b2fd1716c8a62503",
            "msg_id": "",
            "outputs": []
          }
        },
        "860a37066d5f4406915264760e629ce3": {
          "model_module": "@jupyter-widgets/base",
          "model_name": "LayoutModel",
          "model_module_version": "1.2.0",
          "state": {
            "_model_module": "@jupyter-widgets/base",
            "_model_module_version": "1.2.0",
            "_model_name": "LayoutModel",
            "_view_count": null,
            "_view_module": "@jupyter-widgets/base",
            "_view_module_version": "1.2.0",
            "_view_name": "LayoutView",
            "align_content": null,
            "align_items": null,
            "align_self": null,
            "border": null,
            "bottom": null,
            "display": null,
            "flex": null,
            "flex_flow": null,
            "grid_area": null,
            "grid_auto_columns": null,
            "grid_auto_flow": null,
            "grid_auto_rows": null,
            "grid_column": null,
            "grid_gap": null,
            "grid_row": null,
            "grid_template_areas": null,
            "grid_template_columns": null,
            "grid_template_rows": null,
            "height": null,
            "justify_content": null,
            "justify_items": null,
            "left": null,
            "margin": null,
            "max_height": null,
            "max_width": null,
            "min_height": null,
            "min_width": null,
            "object_fit": null,
            "object_position": null,
            "order": null,
            "overflow": null,
            "overflow_x": null,
            "overflow_y": null,
            "padding": null,
            "right": null,
            "top": null,
            "visibility": null,
            "width": null
          }
        },
        "6129030b10c84ac884ce2d8fb6429802": {
          "model_module": "@jupyter-widgets/base",
          "model_name": "LayoutModel",
          "model_module_version": "1.2.0",
          "state": {
            "_model_module": "@jupyter-widgets/base",
            "_model_module_version": "1.2.0",
            "_model_name": "LayoutModel",
            "_view_count": null,
            "_view_module": "@jupyter-widgets/base",
            "_view_module_version": "1.2.0",
            "_view_name": "LayoutView",
            "align_content": null,
            "align_items": null,
            "align_self": null,
            "border": null,
            "bottom": null,
            "display": null,
            "flex": null,
            "flex_flow": null,
            "grid_area": null,
            "grid_auto_columns": null,
            "grid_auto_flow": null,
            "grid_auto_rows": null,
            "grid_column": null,
            "grid_gap": null,
            "grid_row": null,
            "grid_template_areas": null,
            "grid_template_columns": null,
            "grid_template_rows": null,
            "height": null,
            "justify_content": null,
            "justify_items": null,
            "left": null,
            "margin": null,
            "max_height": null,
            "max_width": null,
            "min_height": null,
            "min_width": null,
            "object_fit": null,
            "object_position": null,
            "order": null,
            "overflow": null,
            "overflow_x": null,
            "overflow_y": null,
            "padding": null,
            "right": null,
            "top": null,
            "visibility": null,
            "width": null
          }
        },
        "2a3be444149e467e9da394f08314b9c0": {
          "model_module": "@jupyter-widgets/controls",
          "model_name": "DescriptionStyleModel",
          "model_module_version": "1.5.0",
          "state": {
            "_model_module": "@jupyter-widgets/controls",
            "_model_module_version": "1.5.0",
            "_model_name": "DescriptionStyleModel",
            "_view_count": null,
            "_view_module": "@jupyter-widgets/base",
            "_view_module_version": "1.2.0",
            "_view_name": "StyleView",
            "description_width": "initial"
          }
        },
        "253bab204fb84959b2fd1716c8a62503": {
          "model_module": "@jupyter-widgets/base",
          "model_name": "LayoutModel",
          "model_module_version": "1.2.0",
          "state": {
            "_model_module": "@jupyter-widgets/base",
            "_model_module_version": "1.2.0",
            "_model_name": "LayoutModel",
            "_view_count": null,
            "_view_module": "@jupyter-widgets/base",
            "_view_module_version": "1.2.0",
            "_view_name": "LayoutView",
            "align_content": null,
            "align_items": null,
            "align_self": null,
            "border": null,
            "bottom": null,
            "display": null,
            "flex": null,
            "flex_flow": null,
            "grid_area": null,
            "grid_auto_columns": null,
            "grid_auto_flow": null,
            "grid_auto_rows": null,
            "grid_column": null,
            "grid_gap": null,
            "grid_row": null,
            "grid_template_areas": null,
            "grid_template_columns": null,
            "grid_template_rows": null,
            "height": null,
            "justify_content": null,
            "justify_items": null,
            "left": null,
            "margin": null,
            "max_height": null,
            "max_width": null,
            "min_height": null,
            "min_width": null,
            "object_fit": null,
            "object_position": null,
            "order": null,
            "overflow": null,
            "overflow_x": null,
            "overflow_y": null,
            "padding": null,
            "right": null,
            "top": null,
            "visibility": null,
            "width": null
          }
        }
      }
    }
  },
  "cells": [
    {
      "cell_type": "markdown",
      "source": [
        "# Mount your drive\n",
        "* Please Use GPU"
      ],
      "metadata": {
        "id": "t2Onrr7bDNrN"
      }
    },
    {
      "cell_type": "code",
      "source": [
        "##! git clone https://github.com/Hesam-92-19/CAVAIE_Paper_Codes"
      ],
      "metadata": {
        "id": "SHL8CRuPSky-"
      },
      "execution_count": 1,
      "outputs": []
    },
    {
      "cell_type": "code",
      "metadata": {
        "id": "v3Uui2rEvmrg",
        "colab": {
          "base_uri": "https://localhost:8080/"
        },
        "outputId": "2b9af8fd-a37e-43f8-d7b5-18113c775131"
      },
      "source": [
        "from google.colab import drive\n",
        "drive.mount('/content/drive')\n"
      ],
      "execution_count": 2,
      "outputs": [
        {
          "output_type": "stream",
          "name": "stdout",
          "text": [
            "Mounted at /content/drive\n"
          ]
        }
      ]
    },
    {
      "cell_type": "markdown",
      "source": [
        "# Utils Notebook which is called in this cell contains all the functions needed to carry out the TL."
      ],
      "metadata": {
        "id": "DGdv6jBMrhzJ"
      }
    },
    {
      "cell_type": "code",
      "metadata": {
        "id": "u_BBWZ3wqsy6",
        "colab": {
          "base_uri": "https://localhost:8080/",
          "height": 208
        },
        "outputId": "6f8e3455-f0af-4423-a0f1-c2c00e5578a2"
      },
      "source": [
        "import sys\n",
        "global path_M\n",
        "Folder_N='Test'\n",
        "path_M = \"/content/drive/My Drive/\"+Folder_N+\"/\"\n",
        "sys.path.append(path_M)\n",
        "%cd /content/drive/My\\ Drive/Test\n",
        "%run Utils.ipynb\n",
        "%cd\n",
        "\n",
        "## Select your precision level (Float 10^-40 (max S=40), Double 10^-80 (max S=80))\n",
        "#Prec='Float'\n",
        "#Precision=40\n",
        "Prec='Double'\n",
        "Precision=80\n",
        "torch.set_default_tensor_type('torch.cuda.'+Prec+'Tensor')\n",
        "\n"
      ],
      "execution_count": 3,
      "outputs": [
        {
          "output_type": "stream",
          "name": "stdout",
          "text": [
            "/content/drive/My Drive/Test\n",
            "Looking in indexes: https://pypi.org/simple, https://us-python.pkg.dev/colab-wheels/public/simple/\n",
            "Requirement already satisfied: torchsummary in /usr/local/lib/python3.9/dist-packages (1.5.1)\n",
            "Looking in indexes: https://pypi.org/simple, https://us-python.pkg.dev/colab-wheels/public/simple/\n",
            "Collecting mat73\n",
            "  Downloading mat73-0.60-py3-none-any.whl (19 kB)\n",
            "Requirement already satisfied: numpy in /usr/local/lib/python3.9/dist-packages (from mat73) (1.22.4)\n",
            "Requirement already satisfied: h5py in /usr/local/lib/python3.9/dist-packages (from mat73) (3.1.0)\n",
            "Installing collected packages: mat73\n",
            "Successfully installed mat73-0.60\n",
            "/root\n"
          ]
        }
      ]
    },
    {
      "cell_type": "markdown",
      "source": [
        "# Source Detector\n",
        "* Note that Z24 has twice N and half W compared to QUGS and Yellow frame. But for index compatibility in writing codes here, for instance, if Z24 has $W=1000$ ans $N=30$, it is labeled as $W$=2000 and $N=15$. Recall that for the transfer all is needed is the same W*N"
      ],
      "metadata": {
        "id": "uj6aS_o4g00q"
      }
    },
    {
      "cell_type": "code",
      "source": [
        "SourceK()\n",
        "NK()\n",
        "WK()"
      ],
      "metadata": {
        "id": "LutKWB_pUsYQ",
        "colab": {
          "base_uri": "https://localhost:8080/",
          "height": 113,
          "referenced_widgets": [
            "2bd50f91ac574b2f8e9a82a765fecd59",
            "fbd452b473d44ee8a4c0618f797521f4",
            "fc88154466574f3ca160d1dc410d4913",
            "75258c2f38a0433fae56b9dec224c3e2",
            "6a5986c8136f493e817985b4401c60dd",
            "c2418120c16a486ea1e9e1d4de29338b",
            "2796d79509484ef88fe66a00530636f9",
            "24cc9f092f394122a9fe82ab3f083097",
            "9d81cc2289f6458cb24265f1809ac9a4",
            "80f9f56d787e4869b05acd1915dd9b79",
            "7b093f2e1ea84b87905ec5a892846ddd",
            "0be06d493e1d4d4a84fe87419c8080f7",
            "8cbde2a75a0c41be80c22458e9635d7f",
            "b72ece7c615e4845a410d7f4f4f0fbc2",
            "cc8f0541e60a4a4c914ca65608dc6b5a",
            "a67284fa8c3f48d3a253cdf9ae2ddaca",
            "f47056f959b146cf811149e030ab4b91",
            "3e976ef7831a46b4aff30d156ff05e13",
            "477811cb3af146aa8adfaf07ee15be52",
            "5b91706281454fcdb07a8c365fffd178",
            "cf6b865c39fe4f20994fa7d7cece6962"
          ]
        },
        "outputId": "425c447e-ac5a-42a1-bd34-bf0d06269ee0"
      },
      "execution_count": null,
      "outputs": [
        {
          "output_type": "display_data",
          "data": {
            "text/plain": [
              "interactive(children=(Dropdown(description='Source Class', options=('Yellow', 'QUGS', 'Z24'), style=Descriptio…"
            ],
            "application/vnd.jupyter.widget-view+json": {
              "version_major": 2,
              "version_minor": 0,
              "model_id": "2bd50f91ac574b2f8e9a82a765fecd59"
            }
          },
          "metadata": {}
        },
        {
          "output_type": "display_data",
          "data": {
            "text/plain": [
              "interactive(children=(Dropdown(description='Source N', options=('15', '10', '6'), style=DescriptionStyle(descr…"
            ],
            "application/vnd.jupyter.widget-view+json": {
              "version_major": 2,
              "version_minor": 0,
              "model_id": "24cc9f092f394122a9fe82ab3f083097"
            }
          },
          "metadata": {}
        },
        {
          "output_type": "display_data",
          "data": {
            "text/plain": [
              "interactive(children=(Dropdown(description='Source W', options=('2000', '1000', '500'), style=DescriptionStyle…"
            ],
            "application/vnd.jupyter.widget-view+json": {
              "version_major": 2,
              "version_minor": 0,
              "model_id": "cc8f0541e60a4a4c914ca65608dc6b5a"
            }
          },
          "metadata": {}
        }
      ]
    },
    {
      "cell_type": "markdown",
      "source": [
        "# Source Detector\n",
        "* Load Source Detector and its Spectrum\n"
      ],
      "metadata": {
        "id": "EpCJ8Mu5WgOn"
      }
    },
    {
      "cell_type": "code",
      "source": [
        "1999checkpoint"
      ],
      "metadata": {
        "id": "r77NcEJF6Zb4"
      },
      "execution_count": null,
      "outputs": []
    },
    {
      "cell_type": "code",
      "source": [
        "exec('D = CustomNeuralNetworkS%s().to(device)'%(str(N)))\n",
        "checkpoint =torch.load(os.path.join(\"/content/drive/MyDrive/7thTopic/\"+Source+\"/LSTM\"+str(NS_D)+\"_\"+str(WS_D)+\"/DC1\"+\"/\"+\"1999checkpoint.pth\"))\n",
        "D.load_state_dict(checkpoint['D'])\n",
        "Spec=checkpoint['Spec']\n"
      ],
      "metadata": {
        "id": "hpWvJSDEWvSI"
      },
      "execution_count": null,
      "outputs": []
    },
    {
      "cell_type": "markdown",
      "source": [
        "# Select Taget\n",
        "* If you select the Traget as Source, then the Source Detector performance on it domain is later plotted"
      ],
      "metadata": {
        "id": "AzCIaCyRfFI2"
      }
    },
    {
      "cell_type": "code",
      "source": [
        "SourceKT()"
      ],
      "metadata": {
        "colab": {
          "base_uri": "https://localhost:8080/",
          "height": 49,
          "referenced_widgets": [
            "a260d5bce0b945b5a3b095a42db70c2a",
            "a9118871dbcc43f19c0e8286a020ba4e",
            "fac002bf68584417837d3b30eedbfa27",
            "860a37066d5f4406915264760e629ce3",
            "6129030b10c84ac884ce2d8fb6429802",
            "2a3be444149e467e9da394f08314b9c0",
            "253bab204fb84959b2fd1716c8a62503"
          ]
        },
        "id": "A-qgNny6f76p",
        "outputId": "11a2d00d-0942-4ef5-bfff-7edf63f125c9"
      },
      "execution_count": null,
      "outputs": [
        {
          "output_type": "display_data",
          "data": {
            "text/plain": [
              "interactive(children=(Dropdown(description='Target Class', options=('Yellow', 'QUGS', 'Z24'), style=Descriptio…"
            ],
            "application/vnd.jupyter.widget-view+json": {
              "version_major": 2,
              "version_minor": 0,
              "model_id": "a260d5bce0b945b5a3b095a42db70c2a"
            }
          },
          "metadata": {}
        }
      ]
    },
    {
      "cell_type": "markdown",
      "source": [
        "# Load Target Data\n",
        "By selecting the Traget the following data is imported:\n",
        "* DM=features\n",
        "* CLass_CLT= Class sizes (number of data points)\n",
        "* E1T, ZopT = Cummulative Class_CLT for plot purposes"
      ],
      "metadata": {
        "id": "xPUGtmQukZP8"
      }
    },
    {
      "cell_type": "code",
      "source": [
        "[DMT, Data_CLT, E1T, ZopT]=Load_Data(Target,NS_D,WS_D,path_M)\n",
        "[DMS, ZetS, E1S, ZopS]=Load_Data(Source,NS_D,WS_D,path_M)"
      ],
      "metadata": {
        "id": "V8T6OQYskd8E"
      },
      "execution_count": null,
      "outputs": []
    },
    {
      "cell_type": "markdown",
      "source": [
        "#Transfer Learning-Binary SDD"
      ],
      "metadata": {
        "id": "N_oPXM2fkl5l"
      }
    },
    {
      "cell_type": "code",
      "source": [
        "CL=len(E1T)-1\n",
        "PP=np.zeros((CL,1))\n",
        "RR=np.zeros((CL,1))\n",
        "FF=np.zeros((CL,1))\n",
        "E1=np.copy(E1T)\n",
        "for Class in range(1,CL):\n",
        "  DM=DMT\n",
        "  W=WS_D\n",
        "  S=NS_D\n",
        "  Zet=np.copy(Data_CLT)\n",
        "  E1Q=np.copy(E1T)\n",
        "  Source_Spectrum=Spec\n",
        "  Precision=80\n",
        "  TL=\"True\"\n",
        "  Plot=False\n",
        "  if Target.find(\"Z24\")==-1:\n",
        "    Coef=0.1\n",
        "  else:\n",
        "    Coef=0.5\n",
        "  Coef2=0.4\n",
        "  D_initiation=np.array([E1,np.zeros((len(E1)))])\n",
        "  if TL==\"False\":\n",
        "    Zet=np.array([0,int(E1Q[1])-int(E1Q[1]*Coef),E1Q[Class+1]-E1Q[Class]])\n",
        "    Zet\n",
        "    print('TL results without FT\\n')\n",
        "    E1QS=np.cumsum(E1Q)\n",
        "    DOLO=np.concatenate((DM[int(E1Q[1]*Coef):int(E1Q[1]),:],DM[int(E1Q[Class]):int(E1Q[Class+1]),:]))   \n",
        "    Test=-torch.log10(D(torch.Tensor((DOLO).reshape(len(DOLO),1,S*int(W/2)))))\n",
        "    Test[Test>Precision]=Precision\n",
        "    Test=Test.detach().cpu().numpy()\n",
        "    #plt.plot(Test)\n",
        "    #plt.show()\n",
        "    [FA,TA,FF]=PR(Test,Zet,1,KK)\n",
        "    print('P= ',str(FA),'R= ',str(TA),'F1=',str(FF))\n",
        "\n",
        "  if TL==\"True\":\n",
        "    #print('TL results with FT\\n')\n",
        "    E1=np.cumsum(Zet)\n",
        "    DMU=np.copy(DM)\n",
        "    DMQ=np.copy(DM)\n",
        "    E1Q=np.copy(E1)\n",
        "    G=np.copy(Spec)\n",
        "    DMMCopy=np.copy(DM)\n",
        "\n",
        "    # FT, Algorith 1 --- Spectrum normalization using only the intact data%%%%%%%%%%%%%%%%%%%%%%%%%%%%%%%\n",
        "    for k in range(S):\n",
        "      GA=G[k*int(W/2):(k+1)*int(W/2)];\n",
        "      G1=np.mean(DMQ[0:int(E1Q[1]*Coef),k*int(W/2):(k+1)*int(W/2)]**2, axis=0)\n",
        "      G1=G1/np.max(G1)*100\n",
        "      L=np.argsort(GA)\n",
        "      L1=np.argsort(G1)\n",
        "      Kok=np.zeros((int(W/2),int(W/2)))\n",
        "      for j in range(int(W/2)):\n",
        "        Kok[j,:]=(np.abs(GA-G1[j]))\n",
        "      K=np.argmin(Kok, axis=1)\n",
        "\n",
        "    # Transfroming the rest of dataset suing mapping from the intact portion %%%%%%%%%%%%%%%%%%%%%%%%%%%%%\n",
        "      for i in range(int(W/2)):\n",
        "        DMMCopy[:,L[i]+k*int(W/2)]=np.copy(DMQ[:,L1[i]+k*int(W/2)])*np.sqrt(GA[int(L[i])]/G1[int(L1[i])])\n",
        "    G111=(DMMCopy[int(E1Q[1]*Coef):int(E1Q[1]*(Coef+Coef2)),:])\n",
        "    Test111=-torch.log10(D(torch.Tensor((G111).reshape(len(G111),1,S*int(W/2)))))\n",
        "    TestAll=-torch.log10(D(torch.Tensor((DMMCopy).reshape(len(DMMCopy),1,S*int(W/2)))))\n",
        "    mu, std = norm.fit(Test111.detach().cpu())\n",
        "    KK=max(0.31,mu+3*std)\n",
        "    print(mu,std)\n",
        "    E1QS=np.cumsum(E1Q)\n",
        "    DOLO=np.concatenate((DMMCopy[int(E1Q[1]*(Coef+Coef2)):int(E1Q[1]),:],DMMCopy[int(E1Q[Class]):int(E1Q[Class+1]),:]))   \n",
        "    Test=-torch.log10(D(torch.Tensor((DOLO).reshape(len(DOLO),1,S*int(W/2)))))\n",
        "    Test[Test>Precision]=Precision\n",
        "    Test=Test.detach().cpu().numpy()\n",
        "    Zet=np.array([0,int(E1Q[1])-int(E1Q[1]*(Coef+Coef2)),E1Q[Class+1]-E1Q[Class]])\n",
        "    print('SDD results with Damage class:\\t',str(Class))\n",
        "    plt.plot(Test)\n",
        "    #plt.ylim([0,0.5])\n",
        "    Zet_C1=Zet[1]\n",
        "    plt.plot([0,Zet_C1+Zet[2]],[KK,KK],'r')\n",
        "    plt.show()\n",
        "    [PP[Class],RR[Class],FF[Class]]=PR2(Test,Zet,int(Zet_C1),KK)\n",
        "    print('Precision= ',str(PP[Class]),'Recall= ',str(RR[Class]),'F1=',str(FF[Class]),'\\n\\n\\n')\n"
      ],
      "metadata": {
        "colab": {
          "base_uri": "https://localhost:8080/",
          "height": 1000
        },
        "id": "786u5ENQqd_y",
        "outputId": "ff1d3a9b-47cd-4adc-e732-c1c1bd32ca93"
      },
      "execution_count": null,
      "outputs": [
        {
          "output_type": "stream",
          "name": "stdout",
          "text": [
            "0.17968610618174027 0.20796325661089451\n",
            "SDD results with Damage class:\t 1\n"
          ]
        },
        {
          "output_type": "display_data",
          "data": {
            "text/plain": [
              "<Figure size 720x576 with 1 Axes>"
            ],
            "image/png": "[encoded data removed]"
          },
          "metadata": {
            "needs_background": "light"
          }
        },
        {
          "output_type": "stream",
          "name": "stdout",
          "text": [
            "T:\t 0.8035758760144238 FP:\t 21 TP:\t 550 FN:\t 0 TN:\t 146\n",
            "Precision=  [0.96322242] Recall=  [1.] F1= [0.98126673] \n",
            "\n",
            "\n",
            "\n",
            "0.17968610618174027 0.20796325661089451\n",
            "SDD results with Damage class:\t 2\n"
          ]
        },
        {
          "output_type": "display_data",
          "data": {
            "text/plain": [
              "<Figure size 720x576 with 1 Axes>"
            ],
            "image/png": "[encoded data removed]"
          },
          "metadata": {
            "needs_background": "light"
          }
        },
        {
          "output_type": "stream",
          "name": "stdout",
          "text": [
            "T:\t 0.8035758760144238 FP:\t 21 TP:\t 500 FN:\t 0 TN:\t 146\n",
            "Precision=  [0.9596929] Recall=  [1.] F1= [0.97943193] \n",
            "\n",
            "\n",
            "\n",
            "0.17968610618174027 0.20796325661089451\n",
            "SDD results with Damage class:\t 3\n"
          ]
        },
        {
          "output_type": "display_data",
          "data": {
            "text/plain": [
              "<Figure size 720x576 with 1 Axes>"
            ],
            "image/png": "[encoded data removed]"
          },
          "metadata": {
            "needs_background": "light"
          }
        },
        {
          "output_type": "stream",
          "name": "stdout",
          "text": [
            "T:\t 0.8035758760144238 FP:\t 21 TP:\t 414 FN:\t 0 TN:\t 146\n",
            "Precision=  [0.95172414] Recall=  [1.] F1= [0.97526502] \n",
            "\n",
            "\n",
            "\n"
          ]
        },
        {
          "output_type": "error",
          "ename": "KeyboardInterrupt",
          "evalue": "ignored",
          "traceback": [
            "\u001b[0;31m---------------------------------------------------------------------------\u001b[0m",
            "\u001b[0;31mKeyboardInterrupt\u001b[0m                         Traceback (most recent call last)",
            "\u001b[0;32m<ipython-input-142-9939a8b939be>\u001b[0m in \u001b[0;36m<module>\u001b[0;34m\u001b[0m\n\u001b[1;32m     38\u001b[0m     \u001b[0mE1\u001b[0m\u001b[0;34m=\u001b[0m\u001b[0mnp\u001b[0m\u001b[0;34m.\u001b[0m\u001b[0mcumsum\u001b[0m\u001b[0;34m(\u001b[0m\u001b[0mZet\u001b[0m\u001b[0;34m)\u001b[0m\u001b[0;34m\u001b[0m\u001b[0;34m\u001b[0m\u001b[0m\n\u001b[1;32m     39\u001b[0m     \u001b[0mDMU\u001b[0m\u001b[0;34m=\u001b[0m\u001b[0mnp\u001b[0m\u001b[0;34m.\u001b[0m\u001b[0mcopy\u001b[0m\u001b[0;34m(\u001b[0m\u001b[0mDM\u001b[0m\u001b[0;34m)\u001b[0m\u001b[0;34m\u001b[0m\u001b[0;34m\u001b[0m\u001b[0m\n\u001b[0;32m---> 40\u001b[0;31m     \u001b[0mDMQ\u001b[0m\u001b[0;34m=\u001b[0m\u001b[0mnp\u001b[0m\u001b[0;34m.\u001b[0m\u001b[0mcopy\u001b[0m\u001b[0;34m(\u001b[0m\u001b[0mDM\u001b[0m\u001b[0;34m)\u001b[0m\u001b[0;34m\u001b[0m\u001b[0;34m\u001b[0m\u001b[0m\n\u001b[0m\u001b[1;32m     41\u001b[0m     \u001b[0mE1Q\u001b[0m\u001b[0;34m=\u001b[0m\u001b[0mnp\u001b[0m\u001b[0;34m.\u001b[0m\u001b[0mcopy\u001b[0m\u001b[0;34m(\u001b[0m\u001b[0mE1\u001b[0m\u001b[0;34m)\u001b[0m\u001b[0;34m\u001b[0m\u001b[0;34m\u001b[0m\u001b[0m\n\u001b[1;32m     42\u001b[0m     \u001b[0mG\u001b[0m\u001b[0;34m=\u001b[0m\u001b[0mnp\u001b[0m\u001b[0;34m.\u001b[0m\u001b[0mcopy\u001b[0m\u001b[0;34m(\u001b[0m\u001b[0mSpec\u001b[0m\u001b[0;34m)\u001b[0m\u001b[0;34m\u001b[0m\u001b[0;34m\u001b[0m\u001b[0m\n",
            "\u001b[0;32m/usr/local/lib/python3.9/dist-packages/numpy/core/overrides.py\u001b[0m in \u001b[0;36mcopy\u001b[0;34m(*args, **kwargs)\u001b[0m\n",
            "\u001b[0;32m/usr/local/lib/python3.9/dist-packages/numpy/lib/function_base.py\u001b[0m in \u001b[0;36mcopy\u001b[0;34m(a, order, subok)\u001b[0m\n\u001b[1;32m    933\u001b[0m \u001b[0;34m\u001b[0m\u001b[0m\n\u001b[1;32m    934\u001b[0m     \"\"\"\n\u001b[0;32m--> 935\u001b[0;31m     \u001b[0;32mreturn\u001b[0m \u001b[0marray\u001b[0m\u001b[0;34m(\u001b[0m\u001b[0ma\u001b[0m\u001b[0;34m,\u001b[0m \u001b[0morder\u001b[0m\u001b[0;34m=\u001b[0m\u001b[0morder\u001b[0m\u001b[0;34m,\u001b[0m \u001b[0msubok\u001b[0m\u001b[0;34m=\u001b[0m\u001b[0msubok\u001b[0m\u001b[0;34m,\u001b[0m \u001b[0mcopy\u001b[0m\u001b[0;34m=\u001b[0m\u001b[0;32mTrue\u001b[0m\u001b[0;34m)\u001b[0m\u001b[0;34m\u001b[0m\u001b[0;34m\u001b[0m\u001b[0m\n\u001b[0m\u001b[1;32m    936\u001b[0m \u001b[0;34m\u001b[0m\u001b[0m\n\u001b[1;32m    937\u001b[0m \u001b[0;31m# Basic operations\u001b[0m\u001b[0;34m\u001b[0m\u001b[0;34m\u001b[0m\u001b[0m\n",
            "\u001b[0;31mKeyboardInterrupt\u001b[0m: "
          ]
        }
      ]
    },
    {
      "cell_type": "code",
      "source": [],
      "metadata": {
        "id": "QO-G9f1E3EPy"
      },
      "execution_count": null,
      "outputs": []
    }
  ]
}